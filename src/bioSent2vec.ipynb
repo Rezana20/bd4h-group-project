{
 "cells": [
  {
   "cell_type": "code",
   "execution_count": 1,
   "id": "c36da709-4374-4030-b8d8-99f19bc81938",
   "metadata": {},
   "outputs": [],
   "source": [
    "import sent2vec\n",
    "from nltk import word_tokenize\n",
    "from nltk.corpus import stopwords\n",
    "from string import punctuation\n",
    "from scipy.spatial import distance\n",
    "import pandas as pd\n",
    "import os\n",
    "import json"
   ]
  },
  {
   "cell_type": "code",
   "execution_count": 2,
   "id": "c21402e2-4efe-49a2-8598-94f7bba680ca",
   "metadata": {},
   "outputs": [
    {
     "name": "stdout",
     "output_type": "stream",
     "text": [
      "model successfully loaded\n"
     ]
    }
   ],
   "source": [
    "model_path = \"../bioSent2Vec_model/BioSentVec_PubMed_MIMICIII-bigram_d700.bin\"\n",
    "\n",
    "model = sent2vec.Sent2vecModel()\n",
    "try:\n",
    "    model.load_model(model_path)\n",
    "except Exception as e:\n",
    "    print(e)\n",
    "print('model successfully loaded')"
   ]
  },
  {
   "cell_type": "code",
   "execution_count": 3,
   "id": "3abe81a7-a9a8-422d-862a-0ce898f6c787",
   "metadata": {},
   "outputs": [],
   "source": [
    "stop_words = set(stopwords.words('english'))\n",
    "def preprocess_sentence(text):\n",
    "    text = text.replace('/', ' / ')\n",
    "    text = text.replace('.-', ' .- ')\n",
    "    text = text.replace('.', ' . ')\n",
    "    text = text.replace('\\'', ' \\' ')\n",
    "    text = text.lower()\n",
    "\n",
    "    tokens = [token for token in word_tokenize(text) if token not in punctuation and token not in stop_words]\n",
    "\n",
    "    return ' '.join(tokens)"
   ]
  },
  {
   "cell_type": "code",
   "execution_count": 4,
   "id": "202c42fa",
   "metadata": {},
   "outputs": [],
   "source": [
    "def vectorize(input_path):\n",
    "    with open(input_path) as f:\n",
    "        user_text_list = f.readline()\n",
    "\n",
    "    user_vect_text_dict = {}\n",
    "    for u_txt in user_text_list:\n",
    "        id, text = u_txt.split(\"_\")\n",
    "        text_list = text.split(\",\")\n",
    "        vect = []\n",
    "        for text in text_list:\n",
    "            sentence = preprocess_sentence(text)\n",
    "            sentence_vector = model.embed_sentence(sentence)\n",
    "            vect.append(sentence_vector.tolist()[0])\n",
    "        user_vect_text_dict[id] = vect\n",
    "    return user_vect_text_dict\n",
    "    \n",
    "def write_json(dict, output_path):\n",
    "    with open(output_path, \"w\") as outfile:\n",
    "        json.dump(dict, outfile)"
   ]
  },
  {
   "cell_type": "code",
   "execution_count": 5,
   "id": "3f453d45-d3d1-4a2d-a4ce-961e3652dc9d",
   "metadata": {},
   "outputs": [],
   "source": [
    "# fold0_dict = vectorize('../diseaseDiagnosis/Dataset/Fold0/TrainingSet.txt')\n",
    "# write_json(fold0_dict, \"user_vect_fold0.json\")"
   ]
  },
  {
   "cell_type": "code",
   "execution_count": 6,
   "id": "3823adce-c7b3-4851-afe9-5cbdd297c4a9",
   "metadata": {},
   "outputs": [],
   "source": [
    "# for n in range(400):\n",
    "#     fold_dict = vectorize(f'./Dataset/Fold{n}/TrainSet.txt')\n",
    "#     write_json(fold_dict, f\"./Dataset/Fold{n}/TrainSet.json\")\n",
    "\n",
    "#     fold_dict = vectorize(f'./Dataset/Fold{n}/TestSet.txt')\n",
    "#     write_json(fold_dict, f\"./Dataset/Fold{n}/TestSet.json\")"
   ]
  },
  {
   "cell_type": "code",
   "execution_count": 7,
   "id": "e91623c3",
   "metadata": {},
   "outputs": [],
   "source": [
    "import numpy as np\n",
    "def semantic_similarity(target_element, existing_patient_element):\n",
    "    temp=0\n",
    "    m = len(target_element)\n",
    "    n = len(existing_patient_element)\n",
    "    for x in existing_patient_element:\n",
    "        temp+=max([(np.array(x) @ np.array(y))/(np.linalg.norm(x)*np.linalg.norm(y)) if np.linalg.norm(x)*np.linalg.norm(y) !=0 else 0 for y in target_element])\n",
    "    return temp/max(n,m)"
   ]
  },
  {
   "cell_type": "code",
   "execution_count": 8,
   "id": "7e398514",
   "metadata": {},
   "outputs": [],
   "source": [
    "def similarity_search(patient, alpha,set_type,k):\n",
    "    def similarity_search_n_folds(n):\n",
    "        with open(f'Dataset/Fold{n}/{set_type}Set.json') as json_file:\n",
    "            fold = json.load(json_file)\n",
    "\n",
    "        sim_fold = []\n",
    "        for  key in fold.keys():\n",
    "            similarity = semantic_similarity(patient, fold[key])\n",
    "            if similarity >= alpha:\n",
    "                sim_fold.append(((key,n), similarity))\n",
    "        if len(sim_fold)>=k:\n",
    "            return sorted(sim_fold, reverse=True)\n",
    "        else:\n",
    "            return sorted(sim_fold, reverse=True)[:k]\n",
    "    return similarity_search_n_folds"
   ]
  },
  {
   "cell_type": "code",
   "execution_count": 9,
   "id": "0a06f5b4",
   "metadata": {},
   "outputs": [],
   "source": [
    "import multiprocess as mp\n",
    "import itertools\n",
    "\n",
    "def similar_patients(patient, alpha,n, set_type, k):\n",
    "    pool = mp.Pool(4)\n",
    "    results = pool.map(similarity_search(patient, alpha, set_type, k), range(n))\n",
    "    pool.close()\n",
    "\n",
    "    return dict(itertools.chain.from_iterable(results))"
   ]
  },
  {
   "cell_type": "code",
   "execution_count": 10,
   "id": "9e83aaf4",
   "metadata": {},
   "outputs": [],
   "source": [
    "def correctly_classified(patient, similar_patients_dict, beta, set_type):\n",
    "    true_predictions = [] \n",
    "    for sim_patient, n in similar_patients_dict.keys():\n",
    "        with open(f'Dataset/Fold{n}/{set_type}Set.json') as json_file:\n",
    "            fold = json.load(json_file)\n",
    "            diagnosis = fold[sim_patient][0]\n",
    "        diagnosis_similarity = semantic_similarity([diagnosis], [patient[0]])\n",
    "        if diagnosis_similarity >= beta:\n",
    "            true_predictions.append((sim_patient, n))\n",
    "    if true_predictions:\n",
    "        return 1.0\n",
    "    else:\n",
    "        return 0.0"
   ]
  },
  {
   "cell_type": "code",
   "execution_count": 11,
   "id": "d22dbcc7",
   "metadata": {},
   "outputs": [],
   "source": [
    "def diagnosis_exist_in_fold(test_patient, beta):\n",
    "    def diagnosis_exists_n_fold(n):\n",
    "        with open(f'Dataset/Fold{n}/TrainSet.json') as json_file:\n",
    "            fold = json.load(json_file)\n",
    "            for targert_patient in fold.keys():\n",
    "                diagnosis = fold[targert_patient][0]\n",
    "                diagnosis_similarity = semantic_similarity([diagnosis], [test_patient[0]])\n",
    "                if diagnosis_similarity >= beta:\n",
    "                    return 1.0\n",
    "                else:\n",
    "                    return 0.0\n",
    "    return diagnosis_exists_n_fold"
   ]
  },
  {
   "cell_type": "code",
   "execution_count": 12,
   "id": "fc96c777",
   "metadata": {},
   "outputs": [],
   "source": [
    "def diagnosis_exist(test_patient, beta, n):\n",
    "    pool = mp.Pool(4)\n",
    "    results = pool.map(diagnosis_exist_in_fold(test_patient, beta), range(n))\n",
    "    pool.close()\n",
    "    if sum(results) > 0:\n",
    "        return 1.0\n",
    "    else:\n",
    "        return 0.0"
   ]
  },
  {
   "cell_type": "code",
   "execution_count": 13,
   "id": "347c102b",
   "metadata": {},
   "outputs": [],
   "source": [
    "# prediction_label = []\n",
    "# for n in range(1):\n",
    "#     with open(f'Dataset/Fold{n}/TestSet.json') as json_file:\n",
    "#             fold = json.load(json_file)\n",
    "#             for test_patient in fold.keys():\n",
    "#                 sim_patients_keys = similar_patients(fold[test_patient], 0.6, 1, 'Train', 3)\n",
    "#                 prediction = correctly_classified(fold[test_patient], sim_patients_keys, 0.51, 'Train')\n",
    "#                 prediction_label.append(prediction)"
   ]
  },
  {
   "cell_type": "code",
   "execution_count": 14,
   "id": "aa3d3ba6",
   "metadata": {},
   "outputs": [],
   "source": [
    "# true_label = []\n",
    "# for n in range(1):\n",
    "#     with open(f'Dataset/Fold{n}/TestSet.json') as json_file:\n",
    "#             fold = json.load(json_file)\n",
    "#             for test_patient in fold.keys():\n",
    "#                 diag_exist = diagnosis_exist(fold[test_patient], 0.51, n)\n",
    "#                 true_label.append(diag_exist)"
   ]
  },
  {
   "cell_type": "code",
   "execution_count": 15,
   "id": "c7423b42",
   "metadata": {},
   "outputs": [],
   "source": [
    "from sklearn.metrics import precision_score\n",
    "from sklearn.metrics import recall_score\n",
    "from sklearn.metrics import f1_score\n",
    "\n",
    "# precision = precision_score(true_label, prediction_label, average=None)\n",
    "# recall = recall_score(true_label, prediction_label, average=None)\n",
    "# f1 = f1_score(true_label, prediction_label, average=None)\n",
    "# print(precision[0], recall[0], f1[0])"
   ]
  },
  {
   "cell_type": "code",
   "execution_count": 21,
   "id": "7bf655b3",
   "metadata": {},
   "outputs": [],
   "source": [
    "alpha = 0.6\n",
    "beta = 0.6\n",
    "N = 10\n",
    "\n",
    "recall_list = []\n",
    "precision_list = []\n",
    "f1_list = []\n",
    "for k in range(0,35,5):\n",
    "    prediction_label = []\n",
    "    for n in range(N):\n",
    "        with open(f'Dataset/Fold{n}/TestSet.json') as json_file:\n",
    "            fold = json.load(json_file)\n",
    "            for test_patient in fold.keys():\n",
    "                sim_patients_keys = similar_patients(fold[test_patient], alpha, n, 'Train', k)\n",
    "                prediction = correctly_classified(fold[test_patient], sim_patients_keys, beta, 'Train')\n",
    "                prediction_label.append(prediction)\n",
    "    \n",
    "    true_label = []\n",
    "    for n in range(N):\n",
    "        with open(f'Dataset/Fold{n}/TestSet.json') as json_file:\n",
    "            fold = json.load(json_file)\n",
    "            for test_patient in fold.keys():\n",
    "                diag_exist = diagnosis_exist(fold[test_patient], beta, n)\n",
    "                true_label.append(diag_exist)\n",
    "\n",
    "    precision = precision_score(true_label, prediction_label, average=None)\n",
    "    recall = recall_score(true_label, prediction_label, average=None)\n",
    "    f1 = f1_score(true_label, prediction_label, average=None)\n",
    "    \n",
    "    recall_list.append(recall[0])\n",
    "    precision_list.append(precision[0])\n",
    "    f1_list.append(f1[0])"
   ]
  },
  {
   "cell_type": "code",
   "execution_count": null,
   "id": "906e10b1",
   "metadata": {},
   "outputs": [
    {
     "data": {
      "text/plain": [
       "[<matplotlib.lines.Line2D at 0x7faa715d95a0>]"
      ]
     },
     "execution_count": 17,
     "metadata": {},
     "output_type": "execute_result"
    },
    {
     "data": {
      "image/png": "[encoded data removed]",
      "text/plain": [
       "<Figure size 640x480 with 1 Axes>"
      ]
     },
     "metadata": {},
     "output_type": "display_data"
    }
   ],
   "source": [
    "import matplotlib.pyplot as plt\n",
    "plt.plot( range(0,30,5), recall_list)"
   ]
  },
  {
   "cell_type": "code",
   "execution_count": 18,
   "id": "7cadcbd1",
   "metadata": {},
   "outputs": [
    {
     "data": {
      "text/plain": [
       "[<matplotlib.lines.Line2D at 0x7faa721efc40>]"
      ]
     },
     "execution_count": 18,
     "metadata": {},
     "output_type": "execute_result"
    },
    {
     "data": {
      "image/png": "[encoded data removed]",
      "text/plain": [
       "<Figure size 640x480 with 1 Axes>"
      ]
     },
     "metadata": {},
     "output_type": "display_data"
    }
   ],
   "source": [
    "plt.plot(range(0,30,5), precision_list)"
   ]
  },
  {
   "cell_type": "code",
   "execution_count": 19,
   "id": "b60c5ccc",
   "metadata": {},
   "outputs": [
    {
     "data": {
      "text/plain": [
       "[<matplotlib.lines.Line2D at 0x7faa6e6b6350>]"
      ]
     },
     "execution_count": 19,
     "metadata": {},
     "output_type": "execute_result"
    },
    {
     "data": {
      "image/png": "[encoded data removed]",
      "text/plain": [
       "<Figure size 640x480 with 1 Axes>"
      ]
     },
     "metadata": {},
     "output_type": "display_data"
    }
   ],
   "source": [
    "plt.plot(range(0,30,5), f1_list)"
   ]
  },
  {
   "cell_type": "code",
   "execution_count": 20,
   "id": "331b3e36",
   "metadata": {},
   "outputs": [
    {
     "data": {
      "text/plain": [
       "[0.7604166666666666,\n",
       " 0.7604166666666666,\n",
       " 0.7604166666666666,\n",
       " 0.7604166666666666,\n",
       " 0.7604166666666666,\n",
       " 0.7604166666666666]"
      ]
     },
     "execution_count": 20,
     "metadata": {},
     "output_type": "execute_result"
    }
   ],
   "source": [
    "recall_list"
   ]
  },
  {
   "cell_type": "code",
   "execution_count": null,
   "id": "0caab8ac",
   "metadata": {},
   "outputs": [],
   "source": []
  }
 ],
 "metadata": {
  "kernelspec": {
   "display_name": "Python 3.10.6 ('bd4h_project')",
   "language": "python",
   "name": "python3"
  },
  "language_info": {
   "codemirror_mode": {
    "name": "ipython",
    "version": 3
   },
   "file_extension": ".py",
   "mimetype": "text/x-python",
   "name": "python",
   "nbconvert_exporter": "python",
   "pygments_lexer": "ipython3",
   "version": "3.10.6"
  },
  "vscode": {
   "interpreter": {
    "hash": "c1d77e5ec91eb5f041774bd2c81abaaffb6c3cc5bd636b12d70a46ea17705671"
   }
  }
 },
 "nbformat": 4,
 "nbformat_minor": 5
}
