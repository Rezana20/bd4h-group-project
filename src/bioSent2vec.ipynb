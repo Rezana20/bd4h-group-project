{
 "cells": [
  {
   "cell_type": "code",
   "execution_count": 9,
   "id": "c36da709-4374-4030-b8d8-99f19bc81938",
   "metadata": {},
   "outputs": [],
   "source": [
    "import sent2vec\n",
    "from nltk import word_tokenize\n",
    "from nltk.corpus import stopwords\n",
    "from string import punctuation\n",
    "from scipy.spatial import distance\n",
    "import pandas as pd\n",
    "import os\n",
    "import json"
   ]
  },
  {
   "cell_type": "code",
   "execution_count": 5,
   "id": "c21402e2-4efe-49a2-8598-94f7bba680ca",
   "metadata": {},
   "outputs": [
    {
     "name": "stdout",
     "output_type": "stream",
     "text": [
      "model successfully loaded\n"
     ]
    }
   ],
   "source": [
    "model_path = \"../bioSent2Vec_model/BioSentVec_PubMed_MIMICIII-bigram_d700.bin\"\n",
    "\n",
    "model = sent2vec.Sent2vecModel()\n",
    "try:\n",
    "    model.load_model(model_path)\n",
    "except Exception as e:\n",
    "    print(e)\n",
    "print('model successfully loaded')"
   ]
  },
  {
   "cell_type": "code",
   "execution_count": 6,
   "id": "3abe81a7-a9a8-422d-862a-0ce898f6c787",
   "metadata": {},
   "outputs": [],
   "source": [
    "stop_words = set(stopwords.words('english'))\n",
    "def preprocess_sentence(text):\n",
    "    text = text.replace('/', ' / ')\n",
    "    text = text.replace('.-', ' .- ')\n",
    "    text = text.replace('.', ' . ')\n",
    "    text = text.replace('\\'', ' \\' ')\n",
    "    text = text.lower()\n",
    "\n",
    "    tokens = [token for token in word_tokenize(text) if token not in punctuation and token not in stop_words]\n",
    "\n",
    "    return ' '.join(tokens)"
   ]
  },
  {
   "cell_type": "code",
   "execution_count": 27,
   "id": "202c42fa",
   "metadata": {},
   "outputs": [],
   "source": [
    "def vectorize(input_path):\n",
    "    with open(input_path) as f:\n",
    "        user_text_list = f.readlines()\n",
    "\n",
    "    user_vect_text_dict = {}\n",
    "    for u_txt in user_text_list:\n",
    "        id, text = u_txt.split(\"_\")\n",
    "        text_list = text.split(\",\")\n",
    "        vect = []\n",
    "        for text in text_list:\n",
    "            sentence = preprocess_sentence(text)\n",
    "            sentence_vector = model.embed_sentence(sentence)\n",
    "            vect.append(sentence_vector.tolist()[0])\n",
    "        user_vect_text_dict[id] = vect\n",
    "    return user_vect_text_dict\n",
    "    \n",
    "def write_json(dict, output_path):\n",
    "    with open(output_path, \"w\") as outfile:\n",
    "        json.dump(dict, outfile)"
   ]
  },
  {
   "cell_type": "code",
   "execution_count": 31,
   "id": "3f453d45-d3d1-4a2d-a4ce-961e3652dc9d",
   "metadata": {},
   "outputs": [],
   "source": [
    "fold0_dict = vectorize('../diseaseDiagnosis/Dataset/Fold0/TrainingSet.txt')\n",
    "write_json(fold0_dict, \"user_vect_fold0.json\")"
   ]
  },
  {
   "cell_type": "code",
   "execution_count": 33,
   "id": "3823adce-c7b3-4851-afe9-5cbdd297c4a9",
   "metadata": {},
   "outputs": [],
   "source": [
    "fold0_dict = vectorize('input.txt')\n",
    "write_json(fold0_dict, \"user_vect_input.json\")"
   ]
  },
  {
   "cell_type": "code",
   "execution_count": null,
   "id": "e91623c3",
   "metadata": {},
   "outputs": [],
   "source": []
  }
 ],
 "metadata": {
  "kernelspec": {
   "display_name": "Python 3.10.6 ('bd4h_project')",
   "language": "python",
   "name": "python3"
  },
  "language_info": {
   "codemirror_mode": {
    "name": "ipython",
    "version": 3
   },
   "file_extension": ".py",
   "mimetype": "text/x-python",
   "name": "python",
   "nbconvert_exporter": "python",
   "pygments_lexer": "ipython3",
   "version": "3.10.6"
  },
  "vscode": {
   "interpreter": {
    "hash": "c1d77e5ec91eb5f041774bd2c81abaaffb6c3cc5bd636b12d70a46ea17705671"
   }
  }
 },
 "nbformat": 4,
 "nbformat_minor": 5
}
